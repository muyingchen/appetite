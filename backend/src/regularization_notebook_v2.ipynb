{
 "cells": [
  {
   "cell_type": "markdown",
   "metadata": {},
   "source": [
    "# Data-X\n",
    "## Tutorial on Regularization, Ridge, and Lasso Regression \n",
    "Reference:  \n",
    "* AARSHAY JAIN - A Complete Tutorial on Ridge and Lasso Regression in Python\n",
    "* https://www.analyticsvidhya.com/blog/2016/01/complete-tutorial-ridge-lasso-regression-python/"
   ]
  },
  {
   "cell_type": "markdown",
   "metadata": {},
   "source": [
    "## Overview\n",
    "Ridge and Lasso Regression are regularization techniques generally used for creating simple models (Occam's Razor) in presence of a large number of features. The main goal is to combat tendency of models to overfit and balance the statistical / computational tradeoffs that are ubiquitous in the high-dimensional statistics era. \n",
    "\n",
    "* **Ridge Regression**\n",
    "    - L2-regularization \n",
    "    - Obj = Loss Function + $\\alpha\\|\\beta\\|_2$\n",
    "* **Lasso Regression**\n",
    "    - L1-regularization\n",
    "    - Obj = Loss Function + $\\alpha\\|\\beta\\|_1$"
   ]
  },
  {
   "cell_type": "code",
   "execution_count": 1,
   "metadata": {},
   "outputs": [],
   "source": [
    "# load packages\n",
    "\n",
    "import numpy as np\n",
    "import pandas as pd\n",
    "import random\n",
    "import matplotlib.pyplot as plt\n",
    "from sklearn.model_selection import train_test_split\n",
    "import os\n",
    "import sys\n",
    "from sklearn import linear_model\n",
    "\n",
    "module_path = os.path.abspath(os.path.join('../..'))\n",
    "if module_path not in sys.path:\n",
    "    sys.path.append(module_path)\n",
    "    \n",
    "from backend.server import weather_path\n",
    "from backend.server import gt_path\n",
    "from backend.src.data_provider.csv_manager import CSVManager\n",
    "%matplotlib inline\n",
    "\n",
    "plt.rcParams['figure.figsize'] = 14, 10\n",
    "\n",
    "import warnings\n",
    "warnings.filterwarnings('ignore')"
   ]
  },
  {
   "cell_type": "markdown",
   "metadata": {},
   "source": [
    "## Why penalize the magnitude of coefficients?\n",
    "\n",
    "Consider the following simulation of a sine curve"
   ]
  },
  {
   "cell_type": "code",
   "execution_count": 2,
   "metadata": {},
   "outputs": [
    {
     "name": "stdout",
     "output_type": "stream",
     "text": [
      "create_file is not executed since file already exists\n"
     ]
    }
   ],
   "source": [
    "csv_manager = CSVManager(weather_path)\n",
    "import time\n",
    "import datetime\n",
    "\n",
    "class Trainer:\n",
    "    def __init__(self, model=linear_model.Ridge, label='y'):\n",
    "        self.columns = []\n",
    "        self.dataframe = None\n",
    "        self.test_dataframe = None\n",
    "        self.model_type = model\n",
    "        self.model = None\n",
    "        self.label = label\n",
    "        self.read_file = []\n",
    "    \n",
    "    \n",
    "    def feed_csv(self, path, columns=[]):\n",
    "        if 'DATE' not in columns:\n",
    "            raise Exception(\"Include DATE as a field\")\n",
    "        \n",
    "        if path in self.read_file:\n",
    "            raise Exception(\"You cannot read the same file twice. {} is already fed to this class\".format(path))\n",
    "            \n",
    "        # update column\n",
    "        self.columns += columns\n",
    "        \n",
    "        # read data\n",
    "        csv_manager = CSVManager(path)\n",
    "        csv_data = csv_manager.read()\n",
    "        \n",
    "        csv_data_len = int(len(csv_data))\n",
    "        csv_data, csv_test_data = csv_data[:csv_data_len - 365], csv_data[csv_data_len - 365:]\n",
    "        \n",
    "        def create_data_frame(csv_data, df):\n",
    "            # get data per column to feed dataframe\n",
    "            data_per_column = []\n",
    "            for column in columns:\n",
    "                # timestamp is handled specially\n",
    "                if column == 'DATE':\n",
    "                    timestamps = [datetime.datetime.strptime(data['DATE'], \"%Y-%m-%d\").month * 100\n",
    "                                  + datetime.datetime.strptime(data['DATE'], \"%Y-%m-%d\").day \n",
    "                                  for data in csv_data]\n",
    "                    data_per_column.append(timestamps)\n",
    "                elif column == 'TRANSACTION':\n",
    "                    data_at_column = [int(data['STRAWBERRIES']) + random.randint(-3, 3) for data in csv_data]\n",
    "                    data_per_column.append(data_at_column)\n",
    "                else:\n",
    "                    data_at_column = [int(data[column]) for data in csv_data]\n",
    "                    data_per_column.append(data_at_column)\n",
    "\n",
    "            # merge new dataframe to the previous dataframe\n",
    "            new_dataframe = pd.DataFrame(np.column_stack(data_per_column), columns=columns)\n",
    "            if df is None:\n",
    "                return new_dataframe\n",
    "            else:\n",
    "                return pd.merge(df, new_dataframe, on='DATE')\n",
    "        \n",
    "        # training_data ==================================================\n",
    "        self.dataframe = create_data_frame(csv_data, self.dataframe)\n",
    "        # testing_data =======================================================\n",
    "        self.test_dataframe = create_data_frame(csv_test_data, self.test_dataframe)\n",
    "        \n",
    "        self.read_file.append(path)\n",
    "    \n",
    "    \n",
    "    def train(self, alpha=.1):\n",
    "        self.model = self.model_type(alpha=alpha)\n",
    "        \n",
    "        features = self.dataframe.copy().drop(columns=self.label)\n",
    "        self.cof = self.model.fit(features, self.dataframe[self.label])\n",
    "    \n",
    "    \n",
    "    def predict(self, features):\n",
    "        if self.model is None:\n",
    "            raise Exception(\"model is not trained\")\n",
    "        \n",
    "        return self.model.predict(features)\n",
    "    \n",
    "    \n",
    "    def show_dataframe_graph(self):\n",
    "        plt.plot(self.dataframe['DATE'], self.dataframe[self.label], '.', ms=16);\n",
    "    \n",
    "    \n",
    "    def test(self):\n",
    "        prediction = self.model.predict(self.test_dataframe.copy().drop(columns=self.label))\n",
    "\n",
    "        plt.plot(self.test_dataframe['DATE'], prediction, '.', ms=16);\n",
    "        #plt.plot(self.dataframe['DATE'], self.dataframe[self.label], '.', ms=16)\n",
    "\n",
    "        rss = sum((prediction - self.test_dataframe[self.label]) ** 2) / self.test_dataframe.shape[0] # num_of_rows\n",
    "        print(\"rss: {}\".format(rss))\n",
    "        \n",
    "    \n",
    "    def get_coef(self):\n",
    "        if self.model == None:\n",
    "            raise Exception(\"model hasn't been trained\")\n",
    "        \n",
    "        return self.cof.coef_\n",
    "    \n",
    "    \n",
    "    def get_dataframe(self):\n",
    "        if self.dataframe is None:\n",
    "            raise Exception(\"dataframe has not been defined\")\n",
    "            \n",
    "        return self.dataframe\n",
    "    \n",
    "    \n",
    "    def reset(self):\n",
    "        self.columns = []\n",
    "        self.regular_data = []\n",
    "        self.test_data = []\n",
    "        self.dataframe = None\n",
    "        \n",
    "        \n",
    "# csv_data = csv_manager.read()\n",
    "# csv_train_data = csv_data[:1065]\n",
    "# csv_test_data = csv_data[1065:]\n",
    "\n",
    "# avg = [int(data['TAVG']) for data in csv_train_data] # y\n",
    "# avg_test = [int(data['TAVG']) for data in csv_test_data]\n",
    "\n",
    "# max_temp = [int(data['TMAX']) for data in csv_train_data]\n",
    "# max_temp_test = [int(data['TMAX']) for data in csv_test_data]\n",
    "\n",
    "# min_temp = [int(data['TMIN']) for data in csv_train_data]\n",
    "# min_temp_test = [int(data['TMIN']) for data in csv_test_data]\n",
    "\n",
    "# timestamps = [datetime.datetime.strptime(data['DATE'], \"%Y-%m-%d\").month * 100 + datetime.datetime.strptime(data['DATE'], \"%Y-%m-%d\").day for data in csv_train_data]\n",
    "# timestamps_test = [datetime.datetime.strptime(data['DATE'], \"%Y-%m-%d\").month * 100 + datetime.datetime.strptime(data['DATE'], \"%Y-%m-%d\").day for data in csv_test_data]\n",
    "\n",
    "# data = pd.DataFrame(np.column_stack([avg, max_temp, min_temp, timestamps]),columns=['y', 'TMAX', 'TMIN', 'DATE']) # train data\n",
    "# data_test = pd.DataFrame(np.column_stack([avg_test, max_temp_test, min_temp_test, timestamps_test]),columns=['y', 'TMAX', 'TMIN', 'DATE']) # test data\n",
    "\n",
    "# plt.plot(data['DATE'],data['y'],'.',ms=16);\n",
    "\n",
    "# pd.DataFrame()"
   ]
  },
  {
   "cell_type": "markdown",
   "metadata": {},
   "source": [
    "### create list w pointers to train and test DF"
   ]
  },
  {
   "cell_type": "markdown",
   "metadata": {},
   "source": [
    "### First Thoughts: Polynomial Regression \n",
    "Features: $X^1, X^2, \\dots, X^{15}$"
   ]
  },
  {
   "cell_type": "code",
   "execution_count": null,
   "metadata": {},
   "outputs": [],
   "source": []
  },
  {
   "cell_type": "code",
   "execution_count": null,
   "metadata": {
    "scrolled": true
   },
   "outputs": [],
   "source": []
  },
  {
   "cell_type": "markdown",
   "metadata": {},
   "source": [
    "Let's consider building 15 models as follows:\n",
    "* Model 1: Features - $X^1$\n",
    "* Model 2: Features - $X, X^2$\n",
    "* $\\dots$\n",
    "* Model 15: Features - $X, X^2, X^{15}$"
   ]
  },
  {
   "cell_type": "code",
   "execution_count": 3,
   "metadata": {},
   "outputs": [],
   "source": [
    "# class ModelEval:\n",
    "#     def __init__(self, data, data_test, models_to_plot, model_name='Model', alphas = None):\n",
    "#         self.data = data\n",
    "#         self.data_test = data_test\n",
    "#         self.models_to_plot = models_to_plot\n",
    "#         self.model_name = model_name\n",
    "        \n",
    "#         #Initialize a dataframe to store the results:\n",
    "#         col = ['rss_train','rss_test','intercept'] + ['coef_x^%d'%i for i in range(1,16)]\n",
    "#         if alphas:\n",
    "#             ind = ['alpha_%.2g'%alphas[i] for i in range(len(alphas))]\n",
    "#         else:\n",
    "#             ind = ['model_pow_%d'%i for i in range(1,16)]\n",
    "        \n",
    "#         self.results = pd.DataFrame(index=ind, columns=col)\n",
    "#         self.results.index.name = model_name\n",
    "        \n",
    "#         self.count = 0\n",
    "        \n",
    "#     def mod_name(self,name):\n",
    "#         self.model_name = name\n",
    "#         self.results.index.name = name\n",
    "            \n",
    "#     def fit_predict_plot(self,model, power=15, alpha = None):\n",
    "        \n",
    "#         predictors=['x']\n",
    "#         if power>=2:\n",
    "#             predictors.extend(['x^%d'%i for i in range(2,power+1)])\n",
    "        \n",
    "#         model.fit(self.data[predictors], self.data['y'])\n",
    "#         ypred = model.predict(self.data[predictors])\n",
    "        \n",
    "#         rss = sum((ypred-data['y'])**2)\n",
    "#         self.metrics = [rss]\n",
    "    \n",
    "#         y_pred_test = model.predict(self.data_test[predictors])\n",
    "#         rss_test = sum((y_pred_test-self.data_test['y'])**2)\n",
    "#         self.metrics.extend([rss_test])\n",
    "    \n",
    "#         self.metrics.extend([model.intercept_])\n",
    "#         self.metrics.extend(model.coef_)\n",
    "\n",
    "        \n",
    "#         self.results.iloc[self.count,0:power+3] = self.metrics\n",
    "#         self.count = self.count+1\n",
    "        \n",
    "#         if power in self.models_to_plot or alpha in self.models_to_plot:\n",
    "#             if alpha:\n",
    "#                 plt.plot(self.models_to_plot[alpha])\n",
    "#                 plt.title('Plot for model {} alpha: {}'.format(self.model_name,str(alpha)))\n",
    "#             else:\n",
    "#                 plt.plot(self.models_to_plot[power])\n",
    "#                 plt.title('Plot for model {} power: {}'.format(self.model_name,str(power)))\n",
    "                \n",
    "#             plt.tight_layout()\n",
    "#             plt.plot(self.data['x'],ypred)\n",
    "#             plt.plot(self.data['x'],self.data['y'],'.',ms=10)\n",
    "#             plt.ylim([-1.5,1.5])\n",
    "#             plt.xlim([1,5.5])\n",
    "#             plt.show()"
   ]
  },
  {
   "cell_type": "code",
   "execution_count": null,
   "metadata": {},
   "outputs": [],
   "source": []
  },
  {
   "cell_type": "code",
   "execution_count": 4,
   "metadata": {
    "scrolled": false
   },
   "outputs": [
    {
     "name": "stdout",
     "output_type": "stream",
     "text": [
      "create_file is not executed since file already exists\n",
      "create_file is not executed since file already exists\n",
      "[ 2.81362969e-03  1.00465078e-04  8.74445805e-04 -4.54272915e-04\n",
      "  9.96387421e-01]\n",
      "rss: 4.062068039460085\n"
     ]
    },
    {
     "data": {
      "image/png": "[encoded data removed]",
      "text/plain": [
       "<Figure size 432x288 with 1 Axes>"
      ]
     },
     "metadata": {
      "needs_background": "light"
     },
     "output_type": "display_data"
    }
   ],
   "source": [
    "# #Iterate through all powers and assimilate results\n",
    "# from sklearn import linear_model\n",
    "# alpha = 0.01\n",
    "\n",
    "# reg = linear_model.Ridge(alpha=.5)\n",
    "# las = linear_model.Lasso(alpha=.5)\n",
    "# lin = linear_model.LinearRegression()\n",
    "\n",
    "# x_data = data.copy()\n",
    "# x_data = x_data.drop(columns='y')\n",
    "\n",
    "# cof = reg.fit(x_data, data['y']) \n",
    "# cof_las = las.fit(x_data, data['y'])\n",
    "# cof_lin = lin.fit(x_data, data['y'])\n",
    "\n",
    "# print('reg coef: {}'.format(cof.coef_))\n",
    "# print('las coef: {}'.format(cof_las.coef_))\n",
    "# print('lin coef: {}'.format(cof_lin.coef_))\n",
    "\n",
    "# x_data_test = data_test.copy()\n",
    "# x_data_test = x_data_test.drop(columns='y')\n",
    "\n",
    "# ypred = reg.predict(x_data_test)\n",
    "# laspred = las.predict(x_data_test)\n",
    "# linpred = lin.predict(x_data_test)\n",
    "\n",
    "# rss_test = sum((ypred - data_test['y'])**2) / 1065\n",
    "# rss_las_test = sum((laspred - data_test['y']) ** 2) / 1065\n",
    "# rss_lin_test = sum((linpred - data_test['y']) ** 2) / 1065\n",
    "\n",
    "# print(rss_test)\n",
    "# print(rss_las_test)\n",
    "# print(rss_lin_test)\n",
    "\n",
    "trainer = Trainer(model=linear_model.Ridge, label='TRANSACTION')\n",
    "\n",
    "trainer.feed_csv(weather_path, columns=['TAVG', 'DATE', 'TMIN', 'TMAX'])\n",
    "trainer.feed_csv(gt_path, columns=['STRAWBERRIES', 'DATE', 'TRANSACTION'])\n",
    "data = trainer.get_dataframe()\n",
    "\n",
    "trainer.train()\n",
    "trainer.test()\n",
    "    "
   ]
  },
  {
   "cell_type": "markdown",
   "metadata": {},
   "source": [
    "This clearly aligns with our initial understanding. As the model complexity increases, the models tends to fit even smaller deviations in the training data set. We start to fit the gaussian noise in the data (patterns that is not there)\n",
    "\n",
    "However, as we add more features, we expect ourselves to overfit!"
   ]
  },
  {
   "cell_type": "code",
   "execution_count": 5,
   "metadata": {},
   "outputs": [],
   "source": [
    "# ypred = reg.predict(x_data_test)\n",
    "\n",
    "# timest = time.mktime(datetime.datetime.strptime('2018-11-25', \"%Y-%m-%d\").timetuple())\n",
    "\n",
    "# plt.plot(data['DATE'],ypred,'.',ms=16);\n",
    "# plt.plot(data['DATE'],data['y'], '.', ms=16)\n",
    "# #plt.plot(data['DATE'],laspred,'.',ms=16);\n",
    "                     \n",
    "# rss_test = sum((ypred - data_test['y'])**2) / 1065\n",
    "# rss_test"
   ]
  },
  {
   "cell_type": "code",
   "execution_count": 6,
   "metadata": {},
   "outputs": [
    {
     "ename": "NameError",
     "evalue": "name 'modeval' is not defined",
     "output_type": "error",
     "traceback": [
      "\u001b[0;31m---------------------------------------------------------------------------\u001b[0m",
      "\u001b[0;31mNameError\u001b[0m                                 Traceback (most recent call last)",
      "\u001b[0;32m<ipython-input-6-fbcfa70f1a5f>\u001b[0m in \u001b[0;36m<module>\u001b[0;34m()\u001b[0m\n\u001b[1;32m      1\u001b[0m \u001b[0;31m#Set the display format to be scientific for ease of analysis\u001b[0m\u001b[0;34m\u001b[0m\u001b[0;34m\u001b[0m\u001b[0m\n\u001b[1;32m      2\u001b[0m \u001b[0mpd\u001b[0m\u001b[0;34m.\u001b[0m\u001b[0moptions\u001b[0m\u001b[0;34m.\u001b[0m\u001b[0mdisplay\u001b[0m\u001b[0;34m.\u001b[0m\u001b[0mfloat_format\u001b[0m \u001b[0;34m=\u001b[0m \u001b[0;34m'{:,.2g}'\u001b[0m\u001b[0;34m.\u001b[0m\u001b[0mformat\u001b[0m\u001b[0;34m\u001b[0m\u001b[0m\n\u001b[0;32m----> 3\u001b[0;31m \u001b[0mmodeval\u001b[0m\u001b[0;34m.\u001b[0m\u001b[0mresults\u001b[0m\u001b[0;34m\u001b[0m\u001b[0m\n\u001b[0m",
      "\u001b[0;31mNameError\u001b[0m: name 'modeval' is not defined"
     ]
    }
   ],
   "source": [
    "#Set the display format to be scientific for ease of analysis\n",
    "pd.options.display.float_format = '{:,.2g}'.format\n",
    "modeval.results"
   ]
  },
  {
   "cell_type": "markdown",
   "metadata": {},
   "source": [
    "It is clearly evident that the size of coefficients increase exponentially with increase in model complexity.\n",
    "\n",
    "What does a large coefficient signify? \n",
    "\n",
    "It means that we’re putting a lot of emphasis on that feature, i.e. the particular feature is a good predictor for the outcome. When it becomes too large, the algorithm starts modelling intricate relations to estimate the output and ends up overfitting to the particular training data."
   ]
  },
  {
   "cell_type": "markdown",
   "metadata": {},
   "source": [
    "## Ridge Regression\n",
    "\n",
    "Note the ‘Ridge’ function used here. It takes ‘alpha’ as a parameter on initialization. Also, keep in mind that normalizing the inputs is generally a good idea in every type of regression and should be used in case of ridge regression as well."
   ]
  },
  {
   "cell_type": "markdown",
   "metadata": {},
   "source": [
    "Now, lets analyze the result of Ridge regression for 10 different values of α ranging from 1e-15 to 20. Note that each of these 10 models will contain all the 15 variables and only the value of alpha would differ."
   ]
  },
  {
   "cell_type": "code",
   "execution_count": null,
   "metadata": {},
   "outputs": [],
   "source": [
    "from sklearn.linear_model import Ridge\n",
    "alpha_ridge = [1e-15, 1e-10, 1e-8, 1e-4, 1e-3,1e-2, 1, 5, 10, 20]\n",
    "mods_to_plot = {1e-15:231, 1e-10:232, 1e-4:233, 1e-3:234, 1e-2:235, 5:236}\n",
    "\n",
    "modeval = ModelEval(data, data_test, models_to_plot = mods_to_plot, alphas=alpha_ridge)\n",
    "modeval.mod_name('Ridge Regression')\n",
    "\n",
    "for i in range(10):\n",
    "    mod = Ridge(alpha = alpha_ridge[i], normalize=True)\n",
    "    modeval.fit_predict_plot(model=mod, alpha = mod.alpha) "
   ]
  },
  {
   "cell_type": "markdown",
   "metadata": {},
   "source": [
    "Here we can clearly observe that as the value of alpha increases, the model complexity reduces. Though higher values of alpha reduce overfitting, significantly high values can cause underfitting as well (eg. alpha = 5). Thus alpha should be chosen wisely. A widely accept technique is cross-validation, i.e. the value of alpha is iterated over a range of values and the one giving higher cross-validation score is chosen.\n",
    "\n",
    "**USE CROSS VALIDATION**"
   ]
  },
  {
   "cell_type": "code",
   "execution_count": null,
   "metadata": {},
   "outputs": [],
   "source": [
    "#Set the display format to be scientific for ease of analysis\n",
    "pd.options.display.float_format = '{:,.2g}'.format\n",
    "modeval.results"
   ]
  },
  {
   "cell_type": "markdown",
   "metadata": {},
   "source": [
    "### Inference\n",
    "\n",
    "This straight away gives us the following inferences:\n",
    "\n",
    "1. The RSS_train increases with increase in alpha, while rss_test is optimized when alpha is around 0.0001 (note edge cases not perfect)\n",
    "2. An alpha as small as 1e-15 gives us significant reduction in magnitude of coefficients. How? Compare the coefficients in the first row of this table to the last row of simple linear regression table.\n",
    "3. High alpha values can lead to significant underfitting. Note the rapid increase in RSS for values of alpha greater than 1\n",
    "4. Though the coefficients are **very very small, they are NOT zero**.\n"
   ]
  },
  {
   "cell_type": "code",
   "execution_count": null,
   "metadata": {},
   "outputs": [],
   "source": [
    "# count how many of the coefficents are zero (in the full coefficient matrix)\n",
    "\n",
    "modeval.results.apply(lambda x: sum(x.values==0),axis=1)"
   ]
  },
  {
   "cell_type": "markdown",
   "metadata": {},
   "source": [
    "We note that none of the coefficients are 0!"
   ]
  },
  {
   "cell_type": "markdown",
   "metadata": {},
   "source": [
    "## LASSO Regression \n",
    "#### (Least Absolute Shrinkage and Selection Operator)"
   ]
  },
  {
   "cell_type": "code",
   "execution_count": null,
   "metadata": {},
   "outputs": [],
   "source": [
    "from sklearn.linear_model import Lasso\n",
    "alpha_lasso = [1e-15, 1e-10, 1e-8, 1e-5,1e-4, 1e-3,1e-2, 1, 5, 10]\n",
    "mods_to_plot = {1e-10:231, 1e-5:232,1e-4:233, 1e-3:234, 1e-2:235, 1:236}\n",
    "\n",
    "modeval = ModelEval(data, data_test, models_to_plot=mods_to_plot, alphas=alpha_lasso)\n",
    "modeval.mod_name('Lasso Regression')\n",
    "\n",
    "for i in range(10):\n",
    "    mod = Lasso(alpha = alpha_lasso[i], normalize=True, max_iter=1e5)\n",
    "    modeval.fit_predict_plot(model=mod, alpha = mod.alpha) "
   ]
  },
  {
   "cell_type": "code",
   "execution_count": null,
   "metadata": {},
   "outputs": [],
   "source": [
    "#Set the display format to be scientific for ease of analysis\n",
    "pd.options.display.float_format = '{:,.2g}'.format\n",
    "modeval.results"
   ]
  },
  {
   "cell_type": "markdown",
   "metadata": {},
   "source": [
    "We have high sparsity whenever a model coefficicent is zero.\n",
    "\n",
    "Seems to be best around alpha 10^-5 or 10^-4.\n",
    "\n",
    "### Inference:\n",
    "\n",
    "Apart from the expected inference of higher RSS for higher alphas, we can see the following:\n",
    "\n",
    "1. For the same values of alpha, the coefficients of lasso regression are much smaller as compared to that of ridge regression (compare row 1 of the 2 tables).\n",
    "2. For the same alpha, lasso has higher RSS (poorer fit) as compared to ridge regression\n",
    "3. Many of the coefficients are zero even for very small values of alpha\n"
   ]
  },
  {
   "cell_type": "code",
   "execution_count": null,
   "metadata": {},
   "outputs": [],
   "source": [
    "modeval.results.apply(lambda x: sum(x.values==0),axis=1)"
   ]
  },
  {
   "cell_type": "markdown",
   "metadata": {},
   "source": [
    "We can see that as $\\alpha$ increases, the number of coefficients being set to zero increases from 0 to 15. Implicitly, Lasso conducts feature selection as well!\n",
    "\n",
    "- Lasso works the best with sparsity "
   ]
  },
  {
   "cell_type": "markdown",
   "metadata": {},
   "source": [
    "## Conclusion\n",
    "\n",
    "* Key Differences:\n",
    "    - Ridge: Typically includes all (or none) of the features in the model. \n",
    "        - Main advantage: Coefficient Shrinkage & Reducing Model Complexity\n",
    "        - It generally works well even in presence of highly correlated features as it will include all of them in the model but the coefficients will be distributed among them depending on the correlation.\n",
    "        - Prevents overfitting but does not reduce computational challenges\n",
    "        - simple gradient descent is capable of the optimization\n",
    "    - Lasso: \n",
    "        - Main advantage: Reduces model complexity & performs coefficient shrinking as well as feature selection\n",
    "        - Provides sparse solutions\n",
    "        - requires subgradient optimization in gradient descent\n",
    "\n",
    "* You can combine Lasso and Ridge Regression via Elastic Nets"
   ]
  },
  {
   "cell_type": "markdown",
   "metadata": {},
   "source": [
    "## Illustration: Regularizing with Early Stopping"
   ]
  },
  {
   "cell_type": "code",
   "execution_count": null,
   "metadata": {},
   "outputs": [],
   "source": [
    "# ridge with stochastic gradient descent\n",
    "iterations = [1,5,50,500,5e3,3e4]\n",
    "plt.subplots(2,3,figsize=(20,14))\n",
    "\n",
    "predictors=['x']\n",
    "predictors.extend(['x^%d'%i for i in range(2,16)])\n",
    "\n",
    "for i in range(6):\n",
    "    plt.subplot(2,3,i+1)\n",
    "    its = iterations[i]\n",
    "    \n",
    "    model = Ridge(alpha=0, normalize=True,max_iter=its,solver='sag',tol=1e-9)\n",
    "    model.fit(data[predictors], data['y'])\n",
    "    y_pred = model.predict(data[predictors])\n",
    "    plt.plot(data['x'],data['y'],'.',ms=16)\n",
    "    plt.plot(data['x'],y_pred)\n",
    "    plt.title('Max Iterations {}'.format(its))"
   ]
  },
  {
   "cell_type": "code",
   "execution_count": null,
   "metadata": {},
   "outputs": [],
   "source": []
  }
 ],
 "metadata": {
  "kernelspec": {
   "display_name": "Python 3",
   "language": "python",
   "name": "python3"
  },
  "language_info": {
   "codemirror_mode": {
    "name": "ipython",
    "version": 3
   },
   "file_extension": ".py",
   "mimetype": "text/x-python",
   "name": "python",
   "nbconvert_exporter": "python",
   "pygments_lexer": "ipython3",
   "version": "3.7.0"
  }
 },
 "nbformat": 4,
 "nbformat_minor": 2
}
