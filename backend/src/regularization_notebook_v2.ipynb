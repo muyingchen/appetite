{
 "cells": [
  {
   "cell_type": "markdown",
   "metadata": {},
   "source": [
    "# appetite\n",
    "## Ridge Regression ML Training"
   ]
  },
  {
   "cell_type": "code",
   "execution_count": 1,
   "metadata": {},
   "outputs": [],
   "source": [
    "# load packages\n",
    "\n",
    "import numpy as np\n",
    "import pandas as pd\n",
    "import random\n",
    "import matplotlib.pyplot as plt\n",
    "from sklearn.model_selection import train_test_split\n",
    "import os\n",
    "import sys\n",
    "from sklearn import linear_model\n",
    "\n",
    "module_path = os.path.abspath(os.path.join('../..'))\n",
    "if module_path not in sys.path:\n",
    "    sys.path.append(module_path)\n",
    "\n",
    "from backend.server import weather_path\n",
    "from backend.server import gt_path\n",
    "from backend.src.data_provider.csv_manager import CSVManager\n",
    "%matplotlib inline\n",
    "\n",
    "plt.rcParams['figure.figsize'] = 14, 10\n",
    "\n",
    "import warnings\n",
    "warnings.filterwarnings('ignore')"
   ]
  },
  {
   "cell_type": "code",
   "execution_count": 2,
   "metadata": {},
   "outputs": [
    {
     "name": "stdout",
     "output_type": "stream",
     "text": [
      "create_file is not executed since file already exists\n"
     ]
    }
   ],
   "source": [
    "csv_manager = CSVManager(weather_path)\n",
    "import time\n",
    "import datetime\n",
    "from sklearn.metrics import r2_score\n",
    "\n",
    "class Trainer:\n",
    "    def __init__(self, model=linear_model.Ridge, label='y'):\n",
    "        self.columns = []\n",
    "        self.dataframe = None\n",
    "        self.test_dataframe = None\n",
    "        self.model_type = model\n",
    "        self.model = None\n",
    "        self.label = label\n",
    "        self.read_file = []\n",
    "    \n",
    "    \n",
    "    def feed_csv(self, path, columns=[]):\n",
    "        if 'DATE' not in columns:\n",
    "            raise Exception(\"Include DATE as a field\")\n",
    "        \n",
    "        if path in self.read_file:\n",
    "            raise Exception(\"You cannot read the same file twice. {} is already fed to this class\".format(path))\n",
    "            \n",
    "        # update column\n",
    "        self.columns += columns\n",
    "        \n",
    "        # read data\n",
    "        csv_manager = CSVManager(path)\n",
    "        csv_data = csv_manager.read()\n",
    "        \n",
    "        csv_data_len = int(len(csv_data))\n",
    "        csv_data, csv_test_data = csv_data[:csv_data_len - 365], csv_data[csv_data_len - 365:]\n",
    "        \n",
    "        def create_data_frame(csv_data, df):\n",
    "            # get data per column to feed dataframe\n",
    "            data_per_column = []\n",
    "            for column in columns:\n",
    "                # timestamp is handled specially\n",
    "                if column == 'DATE':\n",
    "                    timestamps = [datetime.datetime.strptime(data['DATE'], \"%Y-%m-%d\").month * 100\n",
    "                                  + datetime.datetime.strptime(data['DATE'], \"%Y-%m-%d\").day \n",
    "                                  for data in csv_data]\n",
    "                    data_per_column.append(timestamps)\n",
    "                elif column == 'TRANSACTION':\n",
    "                    data_at_column = [int(data['STRAWBERRIES']) + random.randint(-3, 3) for data in csv_data]\n",
    "                    data_per_column.append(data_at_column)\n",
    "                else:\n",
    "                    data_at_column = [int(data[column]) for data in csv_data]\n",
    "                    data_per_column.append(data_at_column)\n",
    "\n",
    "            # merge new dataframe to the previous dataframe\n",
    "            new_dataframe = pd.DataFrame(np.column_stack(data_per_column), columns=columns)\n",
    "            if df is None:\n",
    "                return new_dataframe\n",
    "            else:\n",
    "                return pd.merge(df, new_dataframe, on='DATE')\n",
    "        \n",
    "        # training_data ==================================================\n",
    "        self.dataframe = create_data_frame(csv_data, self.dataframe)\n",
    "        # testing_data =======================================================\n",
    "        self.test_dataframe = create_data_frame(csv_test_data, self.test_dataframe)\n",
    "        \n",
    "        self.read_file.append(path)\n",
    "    \n",
    "    \n",
    "    def train(self, alpha=.1):\n",
    "        self.model = self.model_type(alpha=alpha)\n",
    "        \n",
    "        features = self.dataframe.copy().drop(columns=self.label)\n",
    "        self.cof = self.model.fit(features, self.dataframe[self.label])\n",
    "    \n",
    "    \n",
    "    def predict(self, features):\n",
    "        if self.model is None:\n",
    "            raise Exception(\"model is not trained\")\n",
    "        \n",
    "        return self.model.predict(features)\n",
    "    \n",
    "    \n",
    "    def show_dataframe_graph(self):\n",
    "        plt.plot(self.dataframe['DATE'], self.dataframe[self.label], '.', ms=16)\n",
    "    \n",
    "    \n",
    "    def test(self):\n",
    "        prediction = self.model.predict(self.test_dataframe.copy().drop(columns=self.label))\n",
    "\n",
    "        plt.figure(1)\n",
    "        plt.title(\"Prediction\")\n",
    "        plt.plot(self.test_dataframe['DATE'], prediction, '.', ms=16)\n",
    "\n",
    "        plt.figure(2)\n",
    "        plt.title(\"Actual Test Data\")\n",
    "        plt.plot(self.test_dataframe['DATE'], self.test_dataframe['TRANSACTION'], '.', ms=16)\n",
    "\n",
    "        rss = sum((prediction - self.test_dataframe[self.label]) ** 2)\n",
    "        print(\"\\n\\nQuality Metrics==========================================\")\n",
    "        print(\"RSS (residual sum of squares): {}\".format(rss))\n",
    "        print(\"MSE (mean squared error): {}\".format(rss/ self.test_dataframe.shape[0]))\n",
    "        print(\"R-squared (coefficient of determination): {}\".format(r2_score(self.test_dataframe[self.label], prediction)))\n",
    "        \n",
    "        \"\"\"\n",
    "        print(\"\\n\\nWEIGHT==========================================\")\n",
    "        coef_data = [(label, coef) for coef, label in zip(self.get_coef(), ['TAVG', 'DATE', 'TMIN', 'TMAX', 'GOOGLE_TREND'])]\n",
    "        for cd in coef_data:\n",
    "            print(\"{} weight: {}\".format(cd[0], cd[1]))\n",
    "        \"\"\"\n",
    "    \n",
    "    def get_coef(self):\n",
    "        if self.model == None:\n",
    "            raise Exception(\"model hasn't been trained\")\n",
    "        \n",
    "        return self.cof.coef_\n",
    "    \n",
    "    def get_dataframe(self):\n",
    "        if self.dataframe is None:\n",
    "            raise Exception(\"dataframe has not been defined\")\n",
    "        return self.dataframe\n",
    "    \n",
    "    def reset(self):\n",
    "        self.columns = []\n",
    "        self.regular_data = []\n",
    "        self.test_data = []\n",
    "        self.dataframe = None"
   ]
  },
  {
   "cell_type": "code",
   "execution_count": 3,
   "metadata": {
    "scrolled": false
   },
   "outputs": [
    {
     "name": "stdout",
     "output_type": "stream",
     "text": [
      "create_file is not executed since file already exists\n",
      "create_file is not executed since file already exists\n",
      "\n",
      "\n",
      "Quality Metrics==========================================\n",
      "RSS (residual sum of squares): 1509.498647121189\n",
      "MSE (mean squared error): 4.135612731838874\n",
      "R-squared (coefficient of determination): 0.9911208331619831\n"
     ]
    },
    {
     "data": {
      "image/png": "[encoded data removed]",
      "text/plain": [
       "<Figure size 432x288 with 1 Axes>"
      ]
     },
     "metadata": {
      "needs_background": "light"
     },
     "output_type": "display_data"
    },
    {
     "data": {
      "image/png": "[encoded data removed]",
      "text/plain": [
       "<Figure size 432x288 with 1 Axes>"
      ]
     },
     "metadata": {
      "needs_background": "light"
     },
     "output_type": "display_data"
    }
   ],
   "source": [
    "trainer = Trainer(model=linear_model.Ridge, label='TRANSACTION')\n",
    "\n",
    "trainer.feed_csv(weather_path, columns=['TAVG', 'DATE', 'TMIN', 'TMAX'])\n",
    "trainer.feed_csv(gt_path, columns=['STRAWBERRIES', 'DATE', 'TRANSACTION'])\n",
    "data = trainer.get_dataframe()\n",
    "\n",
    "trainer.train()\n",
    "trainer.test()"
   ]
  },
  {
   "cell_type": "markdown",
   "metadata": {},
   "source": [
    "We note that none of the coefficients are 0!"
   ]
  }
 ],
 "metadata": {
  "kernelspec": {
   "display_name": "Python 3",
   "language": "python",
   "name": "python3"
  },
  "language_info": {
   "codemirror_mode": {
    "name": "ipython",
    "version": 3
   },
   "file_extension": ".py",
   "mimetype": "text/x-python",
   "name": "python",
   "nbconvert_exporter": "python",
   "pygments_lexer": "ipython3",
   "version": "3.7.0"
  }
 },
 "nbformat": 4,
 "nbformat_minor": 2
}
